{
 "cells": [
  {
   "cell_type": "code",
   "execution_count": 1,
   "metadata": {},
   "outputs": [],
   "source": [
    "import requests\n",
    "import csv"
   ]
  },
  {
   "cell_type": "code",
   "execution_count": 2,
   "metadata": {},
   "outputs": [],
   "source": [
    "class Scraper:\n",
    "    def __init__(self):\n",
    "        self.file_name = \"score_raw\"\n",
    "        self.cities = {1:\"Hà Nội\", 2:\"Hồ Chí Minh\", 3:\"Hải Phòng\", 4:\"Đà Nẵng\", 5:\"Hà Giang\", 6:\"Cao Bằng\", 7:\"Lai Châu\", 8:\"Lào Cai\", 9:\"Tuyên Quang\", 10:\"Lạng Sơn\", 11:\"Bắc Kạn\", 12:\"Thái Nguyên\", 13:\"Yên Bái\", 14:\"Sơn La\", 15:\"Phú Thọ\", 16:\"Vĩnh Phúc\", 17:\"Quảng Ninh\", 18:\"Bắc Giang\", 19:\"Bắc Ninh\", 21:\"Hải Dương\", 22:\"Hưng Yên\", 23:\"Hòa Bình\", 24:\"Hà Nam\", 25:\"Nam Định\", 26:\"Thái Bình\", 27:\"Ninh Bình\", 28:\"Thanh Hóa\", 29:\"Nghệ An\", 30:\"Hà Tĩnh\", 31:\"Quảng Bình\", 32:\"Quảng Trị\", 33:\"Thừa Thiên - Huế\", 34:\"Quảng Nam\", 35:\"Quảng Ngãi\", 36:\"Kon Tum\", 37:\"Bình Định\", 38:\"Gia Lai\", 39:\"Phú Yên\", 40:\"Đắk Lắk\", 41:\"Khánh Hòa\", 42:\"Lâm Đồng\", 43:\"Bình Phước\", 44:\"Bình Dương\", 45:\"Ninh Thuận\", 46:\"Tây Ninh\", 47:\"Bình Thuận\", 48:\"Đồng Nai\", 49:\"Long An\", 50:\"Đồng Tháp\", 51:\"An Giang\", 52:\"Bà Rịa\", 53:\"Tiền Giang\", 54:\"Kiên Giang\", 55:\"Cần Thơ\", 56:\"Bến Tre\", 57:\"Vĩnh Long\", 58:\"Trà Vinh\", 59:\"Sóc Trăng\", 60:\"Bạc Liêu\", 61:\"Cà Mau\", 62:\"Điện Biên\", 63:\"Đăk Nông\", 64:\"Hậu Giang\"}\n",
    "        self.url = 'https://api.giaoducthoidai.vn/api/diem-thi'\n",
    "\n",
    "    def access_page(self, keyword):\n",
    "        params = {\n",
    "            'type': '0',\n",
    "            'keyword': keyword,\n",
    "            'kythi': 'THPT',\n",
    "            'nam': '2023',\n",
    "            'cumthi': '0',\n",
    "        }\n",
    "        response = requests.get(self.url, params=params)\n",
    "        if response.ok:\n",
    "            json_score = response.json()\n",
    "            return json_score['data']['results']\n",
    "        return None\n",
    "\n",
    "    def write_to_csv(self, output_data):\n",
    "        with open(f\"{self.file_name}.csv\", 'a', encoding='utf-8', newline='') as csvfile:\n",
    "            writer = csv.DictWriter(csvfile, fieldnames=output_data[0].keys())\n",
    "            if csvfile.tell() == 0:\n",
    "                writer.writeheader()\n",
    "            writer.writerows(output_data)\n",
    "\n",
    "    def run(self):\n",
    "        for edu_id, city_name in self.cities.items():\n",
    "            print(f\"Working on city = {city_name}.\", end = \" \")\n",
    "            student_order = 0\n",
    "            while True:\n",
    "                # Access page\n",
    "                keyword = f\"{edu_id:02d}{student_order:04d}\"\n",
    "                json_score = self.access_page(keyword)\n",
    "                if json_score is None:\n",
    "                    print(f\"Error at keyword {keyword}\")\n",
    "                    continue\n",
    "                if json_score == []:\n",
    "                    print(f\"Stopped at keyword {keyword}\")\n",
    "                    break\n",
    "\n",
    "                # Write score to csv\n",
    "                self.write_to_csv(json_score)\n",
    "\n",
    "                student_order += 1"
   ]
  },
  {
   "cell_type": "code",
   "execution_count": 3,
   "metadata": {},
   "outputs": [
    {
     "name": "stdout",
     "output_type": "stream",
     "text": [
      "Working on city = Hà Nội. "
     ]
    },
    {
     "name": "stdout",
     "output_type": "stream",
     "text": [
      "Stopped at keyword 011021\n",
      "Working on city = Hồ Chí Minh. Stopped at keyword 020849\n",
      "Working on city = Hải Phòng. Stopped at keyword 030228\n",
      "Working on city = Đà Nẵng. Stopped at keyword 040132\n",
      "Working on city = Hà Giang. Stopped at keyword 050063\n",
      "Working on city = Cao Bằng. Stopped at keyword 060051\n",
      "Working on city = Lai Châu. Stopped at keyword 070039\n",
      "Working on city = Lào Cai. Stopped at keyword 080079\n",
      "Working on city = Tuyên Quang. Stopped at keyword 090084\n",
      "Working on city = Lạng Sơn. Stopped at keyword 100094\n",
      "Working on city = Bắc Kạn. Stopped at keyword 110030\n",
      "Working on city = Thái Nguyên. Stopped at keyword 120162\n",
      "Working on city = Yên Bái. Stopped at keyword 130083\n",
      "Working on city = Sơn La. Stopped at keyword 140118\n",
      "Working on city = Phú Thọ. Stopped at keyword 150159\n",
      "Working on city = Vĩnh Phúc. Stopped at keyword 160141\n",
      "Working on city = Quảng Ninh. Stopped at keyword 170161\n",
      "Working on city = Bắc Giang. Stopped at keyword 180211\n",
      "Working on city = Bắc Ninh. Stopped at keyword 190168\n",
      "Working on city = Hải Dương. Stopped at keyword 210220\n",
      "Working on city = Hưng Yên. Stopped at keyword 220154\n",
      "Working on city = Hòa Bình. Stopped at keyword 230097\n",
      "Working on city = Hà Nam. Stopped at keyword 240097\n",
      "Working on city = Nam Định. Stopped at keyword 250205\n",
      "Working on city = Thái Bình. Stopped at keyword 260209\n",
      "Working on city = Ninh Bình. Stopped at keyword 270112\n",
      "Working on city = Thanh Hóa. Stopped at keyword 280365\n",
      "Working on city = Nghệ An. Stopped at keyword 290369\n",
      "Working on city = Hà Tĩnh. Stopped at keyword 300173\n",
      "Working on city = Quảng Bình. Stopped at keyword 310112\n",
      "Working on city = Quảng Trị. Stopped at keyword 320085\n",
      "Working on city = Thừa Thiên - Huế. Stopped at keyword 330131\n",
      "Working on city = Quảng Nam. Stopped at keyword 340172\n",
      "Working on city = Quảng Ngãi. Stopped at keyword 350139\n",
      "Working on city = Kon Tum. Stopped at keyword 360051\n",
      "Working on city = Bình Định. Stopped at keyword 370189\n",
      "Working on city = Gia Lai. Stopped at keyword 380149\n",
      "Working on city = Phú Yên. Stopped at keyword 390107\n",
      "Working on city = Đắk Lắk. Stopped at keyword 400211\n",
      "Working on city = Khánh Hòa. Stopped at keyword 410145\n",
      "Working on city = Lâm Đồng. Stopped at keyword 420147\n",
      "Working on city = Bình Phước. Stopped at keyword 430110\n",
      "Working on city = Bình Dương. Stopped at keyword 440143\n",
      "Working on city = Ninh Thuận. Stopped at keyword 450062\n",
      "Working on city = Tây Ninh. Stopped at keyword 460103\n",
      "Working on city = Bình Thuận. Stopped at keyword 470130\n",
      "Working on city = Đồng Nai. Stopped at keyword 480332\n",
      "Working on city = Long An. Stopped at keyword 490157\n",
      "Working on city = Đồng Tháp. Stopped at keyword 500157\n",
      "Working on city = An Giang. Stopped at keyword 510200\n",
      "Working on city = Bà Rịa. Stopped at keyword 520130\n",
      "Working on city = Tiền Giang. Stopped at keyword 530155\n",
      "Working on city = Kiên Giang. Stopped at keyword 540145\n",
      "Working on city = Cần Thơ. Stopped at keyword 550121\n",
      "Working on city = Bến Tre. Stopped at keyword 560122\n",
      "Working on city = Vĩnh Long. Stopped at keyword 570105\n",
      "Working on city = Trà Vinh. Stopped at keyword 580092\n",
      "Working on city = Sóc Trăng. Stopped at keyword 590101\n",
      "Working on city = Bạc Liêu. Stopped at keyword 600064\n",
      "Working on city = Cà Mau. Stopped at keyword 610098\n",
      "Working on city = Điện Biên. Stopped at keyword 620067\n",
      "Working on city = Đăk Nông. Stopped at keyword 630074\n",
      "Working on city = Hậu Giang. Stopped at keyword 640070\n"
     ]
    }
   ],
   "source": [
    "score_scraper = Scraper()\n",
    "score_scraper.run()"
   ]
  }
 ],
 "metadata": {
  "kernelspec": {
   "display_name": "base",
   "language": "python",
   "name": "python3"
  },
  "language_info": {
   "codemirror_mode": {
    "name": "ipython",
    "version": 3
   },
   "file_extension": ".py",
   "mimetype": "text/x-python",
   "name": "python",
   "nbconvert_exporter": "python",
   "pygments_lexer": "ipython3",
   "version": "3.11.4"
  },
  "orig_nbformat": 4
 },
 "nbformat": 4,
 "nbformat_minor": 2
}
